{
 "cells": [
  {
   "cell_type": "code",
   "execution_count": 1,
   "metadata": {},
   "outputs": [
    {
     "name": "stderr",
     "output_type": "stream",
     "text": [
      "C:\\Users\\admin\\Anaconda3\\lib\\site-packages\\ipykernel_launcher.py:10: DeprecationWarning: Call to deprecated function get_sheet_names (Use wb.sheetnames).\n",
      "  # Remove the CWD from sys.path while we load stuff.\n",
      "C:\\Users\\admin\\Anaconda3\\lib\\site-packages\\ipykernel_launcher.py:11: DeprecationWarning: Call to deprecated function get_sheet_by_name (Use wb[sheetname]).\n",
      "  # This is added back by InteractiveShellApp.init_path()\n",
      "C:\\Users\\admin\\Anaconda3\\lib\\site-packages\\ipykernel_launcher.py:11: DeprecationWarning: Call to deprecated function get_sheet_by_name (Use wb[sheetname]).\n",
      "  # This is added back by InteractiveShellApp.init_path()\n",
      "C:\\Users\\admin\\Anaconda3\\lib\\site-packages\\ipykernel_launcher.py:11: DeprecationWarning: Call to deprecated function get_sheet_by_name (Use wb[sheetname]).\n",
      "  # This is added back by InteractiveShellApp.init_path()\n",
      "C:\\Users\\admin\\Anaconda3\\lib\\site-packages\\ipykernel_launcher.py:10: DeprecationWarning: Call to deprecated function get_sheet_names (Use wb.sheetnames).\n",
      "  # Remove the CWD from sys.path while we load stuff.\n",
      "C:\\Users\\admin\\Anaconda3\\lib\\site-packages\\ipykernel_launcher.py:11: DeprecationWarning: Call to deprecated function get_sheet_by_name (Use wb[sheetname]).\n",
      "  # This is added back by InteractiveShellApp.init_path()\n",
      "C:\\Users\\admin\\Anaconda3\\lib\\site-packages\\ipykernel_launcher.py:11: DeprecationWarning: Call to deprecated function get_sheet_by_name (Use wb[sheetname]).\n",
      "  # This is added back by InteractiveShellApp.init_path()\n"
     ]
    }
   ],
   "source": [
    "import os\n",
    "import csv\n",
    "import openpyxl\n",
    "# providing a folder path in which 2 xlsx files containing 3 worksheets each are stored\n",
    "os.chdir('C:/Users/admin/Documents/FileExcel')\n",
    "for file in os.listdir('.'):\n",
    "    if file.endswith('.xlsx'):\n",
    "        wb = openpyxl.load_workbook(file)\n",
    "# getting multiple sheet name from praticular xlsx file\n",
    "        for sheet_name in wb.get_sheet_names():\n",
    "            sheet = wb.get_sheet_by_name(sheet_name)\n",
    "# slicing the .xlsx from the filename\n",
    "            name_splice = file[: -5]\n",
    "# opening a new csv file with excel filename_sheet title.csv\n",
    "            csv_file = open(name_splice + '_' + sheet_name + '.csv', 'w', newline='')\n",
    "            csv_writer = csv.writer(csv_file)\n",
    "# appending all the values from the xlsx file to csv file using nested forloop\n",
    "            for row_num in range(1, sheet.max_row + 1):\n",
    "                row_data = []\n",
    "                for col_num in range(1, sheet.max_column + 1):\n",
    "                    row_data.append(sheet.cell(row=row_num, column=col_num).value)\n",
    "                   \n",
    "                csv_writer.writerow(row_data)\n",
    "                                        \n",
    "            csv_file.close()\n",
    "# output will be 6 separate csv files"
   ]
  },
  {
   "cell_type": "code",
   "execution_count": null,
   "metadata": {},
   "outputs": [],
   "source": []
  },
  {
   "cell_type": "code",
   "execution_count": null,
   "metadata": {},
   "outputs": [],
   "source": []
  },
  {
   "cell_type": "code",
   "execution_count": null,
   "metadata": {},
   "outputs": [],
   "source": []
  },
  {
   "cell_type": "code",
   "execution_count": null,
   "metadata": {},
   "outputs": [],
   "source": []
  },
  {
   "cell_type": "code",
   "execution_count": null,
   "metadata": {},
   "outputs": [],
   "source": []
  },
  {
   "cell_type": "code",
   "execution_count": null,
   "metadata": {},
   "outputs": [],
   "source": []
  }
 ],
 "metadata": {
  "kernelspec": {
   "display_name": "Python 3",
   "language": "python",
   "name": "python3"
  },
  "language_info": {
   "codemirror_mode": {
    "name": "ipython",
    "version": 3
   },
   "file_extension": ".py",
   "mimetype": "text/x-python",
   "name": "python",
   "nbconvert_exporter": "python",
   "pygments_lexer": "ipython3",
   "version": "3.6.5"
  }
 },
 "nbformat": 4,
 "nbformat_minor": 2
}
