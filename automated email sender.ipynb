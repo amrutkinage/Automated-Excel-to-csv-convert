{
 "cells": [
  {
   "cell_type": "raw",
   "metadata": {},
   "source": []
  },
  {
   "cell_type": "code",
   "execution_count": 4,
   "metadata": {},
   "outputs": [
    {
     "data": {
      "text/plain": [
       "(221, b'2.0.0 closing connection l74sm7152255pfb.145 - gsmtp')"
      ]
     },
     "execution_count": 4,
     "metadata": {},
     "output_type": "execute_result"
    }
   ],
   "source": [
    "import smtplib\n",
    "import mimetypes\n",
    "from email.mime.multipart import MIMEMultipart\n",
    "from email import encoders\n",
    "from email.message import Message\n",
    "from email.mime.audio import MIMEAudio\n",
    "from email.mime.base import MIMEBase\n",
    "from email.mime.image import MIMEImage\n",
    "from email.mime.text import MIMEText\n",
    "\n",
    "emailfrom = \"akig2@gmail.com\"\n",
    "emailto = \"vipul.rodrigues@flightnetwork.com\"\n",
    "\n",
    "fileToSend = \"C:/Users/admin/Documents/FileExcel.rar\"\n",
    "\n",
    "username = \"akig2@gmail.com\"\n",
    "password = \"aaaaaaa\"\n",
    "\n",
    "msg = MIMEMultipart()\n",
    "msg[\"From\"] = emailfrom\n",
    "msg[\"To\"] = emailto\n",
    "msg[\"Subject\"] = \"CSV files from amrut\"\n",
    "msg.preamble = \"CSV files from amrut\"\n",
    "\n",
    "ctype, encoding = mimetypes.guess_type(fileToSend)\n",
    "if ctype is None or encoding is not None:\n",
    "    ctype = \"application/octet-stream\"\n",
    "\n",
    "maintype, subtype = ctype.split(\"/\", 1)\n",
    "\n",
    "if maintype == \"text\":\n",
    "    fp = open(fileToSend)\n",
    "    # Note: we should handle calculating the charset\n",
    "    attachment = MIMEText(fp.read(), _subtype=subtype)\n",
    "    fp.close()\n",
    "elif maintype == \"image\":\n",
    "    fp = open(fileToSend, \"rb\")\n",
    "    attachment = MIMEImage(fp.read(), _subtype=subtype)\n",
    "    fp.close()\n",
    "elif maintype == \"audio\":\n",
    "    fp = open(fileToSend, \"rb\")\n",
    "    attachment = MIMEAudio(fp.read(), _subtype=subtype)\n",
    "    fp.close()\n",
    "else:\n",
    "    fp = open(fileToSend, \"rb\")\n",
    "    attachment = MIMEBase(maintype, subtype)\n",
    "    attachment.set_payload(fp.read())\n",
    "    fp.close()\n",
    "    encoders.encode_base64(attachment)\n",
    "attachment.add_header(\"Content-Disposition\", \"attachment\", filename=fileToSend)\n",
    "msg.attach(attachment)\n",
    "# creates SMTP session \n",
    "server = smtplib.SMTP(\"smtp.gmail.com:587\")\n",
    "# start TLS for security \n",
    "server.starttls()\n",
    "server.login(username,password)\n",
    "server.sendmail(emailfrom, emailto, msg.as_string())\n",
    "server.quit()"
   ]
  },
  {
   "cell_type": "code",
   "execution_count": null,
   "metadata": {},
   "outputs": [],
   "source": []
  }
 ],
 "metadata": {
  "kernelspec": {
   "display_name": "Python 3",
   "language": "python",
   "name": "python3"
  },
  "language_info": {
   "codemirror_mode": {
    "name": "ipython",
    "version": 3
   },
   "file_extension": ".py",
   "mimetype": "text/x-python",
   "name": "python",
   "nbconvert_exporter": "python",
   "pygments_lexer": "ipython3",
   "version": "3.6.5"
  }
 },
 "nbformat": 4,
 "nbformat_minor": 2
}
